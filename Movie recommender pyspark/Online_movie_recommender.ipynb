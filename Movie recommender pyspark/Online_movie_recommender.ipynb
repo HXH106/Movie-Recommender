{
 "cells": [
  {
   "cell_type": "markdown",
   "metadata": {
    "id": "n8CbXfYaLCtX"
   },
   "source": [
    "On-line movie recommending service using Spark & Flask "
   ]
  },
  {
   "cell_type": "code",
   "execution_count": 1,
   "metadata": {
    "colab": {
     "base_uri": "https://localhost:8080/"
    },
    "id": "GRIL0O10KdE5",
    "outputId": "84a9f9ab-a8b7-4183-eac3-15dd4354914a"
   },
   "outputs": [
    {
     "name": "stdout",
     "output_type": "stream",
     "text": [
      "Requirement already satisfied: pyspark in c:\\users\\asus\\anaconda3\\lib\\site-packages (3.0.1)\n",
      "Requirement already satisfied: py4j==0.10.9 in c:\\users\\asus\\anaconda3\\lib\\site-packages (from pyspark) (0.10.9)\n"
     ]
    },
    {
     "name": "stderr",
     "output_type": "stream",
     "text": [
      "WARNING: You are using pip version 20.2.2; however, version 20.3.3 is available.\n",
      "You should consider upgrading via the 'C:\\Users\\ASUS\\anaconda3\\python.exe -m pip install --upgrade pip' command.\n"
     ]
    }
   ],
   "source": [
    "!pip install pyspark"
   ]
  },
  {
   "cell_type": "code",
   "execution_count": 2,
   "metadata": {
    "id": "HDTrKOXWL_Or"
   },
   "outputs": [],
   "source": [
    "import pyspark\n",
    "from pyspark import SparkContext\n",
    "from pyspark.mllib.recommendation import ALS\n",
    "import math\n",
    "from flask import Flask, render_template, request\n",
    "import pandas as pd\n",
    "import numpy as np\n",
    "from time import time\n",
    "\n",
    "sc =SparkContext()\n",
    "\n",
    "\n",
    "\n"
   ]
  },
  {
   "cell_type": "code",
   "execution_count": 4,
   "metadata": {
    "colab": {
     "base_uri": "https://localhost:8080/",
     "height": 1000
    },
    "id": "ir5Ud8xHMRWv",
    "outputId": "cd266443-742a-4a96-c3a2-48f7997b98c1"
   },
   "outputs": [
    {
     "data": {
      "text/plain": [
       "[('1', '1', '4.0'), ('1', '3', '4.0'), ('1', '6', '4.0')]"
      ]
     },
     "execution_count": 4,
     "metadata": {},
     "output_type": "execute_result"
    }
   ],
   "source": [
    "small_ratings_raw_data = sc.textFile(r\"C:\\Users\\ASUS\\Desktop\\Movie recommender pyspark\\dataset\\ml-latest-small\\ratings.csv\")\n",
    "small_ratings_raw_data_header = small_ratings_raw_data.take(1)[0]\n",
    "small_ratings_data = small_ratings_raw_data.filter(lambda line: line!=small_ratings_raw_data_header)\\\n",
    "    .map(lambda line: line.split(\",\")).map(lambda tokens: (tokens[0],tokens[1],tokens[2])).cache()\n",
    "small_ratings_data.take(3)\n"
   ]
  },
  {
   "cell_type": "code",
   "execution_count": 5,
   "metadata": {
    "id": "iD_lf0SCMVTq"
   },
   "outputs": [
    {
     "name": "stdout",
     "output_type": "stream",
     "text": [
      "There are 9742 movies in the small dataset\n"
     ]
    }
   ],
   "source": [
    "\n",
    "small_movies_raw_data = sc.textFile(r\"C:\\Users\\ASUS\\Desktop\\Movie recommender pyspark\\dataset\\ml-latest-small\\movies.csv\")\n",
    "small_movies_raw_data_header = small_movies_raw_data.take(1)[0]\n",
    "\n",
    "small_movies_data = small_movies_raw_data.filter(lambda line: line!=small_movies_raw_data_header)\\\n",
    "    .map(lambda line: line.split(\",\")).map(lambda tokens: (tokens[0],tokens[1])).cache()\n",
    "movies_titles = small_movies_data.map(lambda x: (int(x[0]),x[1]))\n",
    "print (\"There are %s movies in the small dataset\" % (movies_titles.count()))\n",
    "    \n"
   ]
  },
  {
   "cell_type": "code",
   "execution_count": 6,
   "metadata": {
    "id": "cxCDHIcOOWmR"
   },
   "outputs": [
    {
     "data": {
      "text/plain": [
       "[('1', 'Toy Story (1995)'),\n",
       " ('2', 'Jumanji (1995)'),\n",
       " ('3', 'Grumpier Old Men (1995)')]"
      ]
     },
     "execution_count": 6,
     "metadata": {},
     "output_type": "execute_result"
    }
   ],
   "source": [
    "small_movies_data.take(3)"
   ]
  },
  {
   "cell_type": "code",
   "execution_count": 7,
   "metadata": {
    "id": "UT4VhdsSNDJm"
   },
   "outputs": [],
   "source": [
    "training_RDD, validation_RDD, test_RDD = small_ratings_data.randomSplit([6, 2, 2], seed=0)\n",
    "validation_for_predict_RDD = validation_RDD.map(lambda x: (x[0], x[1]))\n",
    "test_for_predict_RDD = test_RDD.map(lambda x: (x[0], x[1]))"
   ]
  },
  {
   "cell_type": "markdown",
   "metadata": {
    "id": "i_ZgBAObMn0k"
   },
   "source": [
    "Selecting ALS parameters using the small dataset"
   ]
  },
  {
   "cell_type": "code",
   "execution_count": 8,
   "metadata": {
    "id": "dyY6RUJkMnUn"
   },
   "outputs": [
    {
     "name": "stdout",
     "output_type": "stream",
     "text": [
      "For rank 4 the RMSE is 0.9140294340800892\n",
      "For rank 8 the RMSE is 0.9239647087310089\n",
      "For rank 12 the RMSE is 0.9134698936689019\n",
      "The best model was trained with rank 12\n"
     ]
    }
   ],
   "source": [
    "seed = 5\n",
    "iterations = 10\n",
    "regularization_parameter = 0.1\n",
    "ranks = [4, 8, 12]\n",
    "errors = [0, 0, 0]\n",
    "err = 0\n",
    "tolerance = 0.02\n",
    "\n",
    "min_error = float('inf')\n",
    "best_rank = -1\n",
    "best_iteration = -1\n",
    "for rank in ranks:\n",
    "    model = ALS.train(training_RDD, rank, seed=seed, iterations=iterations,\n",
    "                      lambda_=regularization_parameter)\n",
    "    predictions = model.predictAll(validation_for_predict_RDD).map(lambda r: ((r[0], r[1]), r[2]))\n",
    "    rates_and_preds = validation_RDD.map(lambda r: ((int(r[0]), int(r[1])), float(r[2]))).join(predictions)\n",
    "    error = math.sqrt(rates_and_preds.map(lambda r: (r[1][0] - r[1][1])**2).mean())\n",
    "    errors[err] = error\n",
    "    err += 1\n",
    "    print ( 'For rank %s the RMSE is %s' % (rank, error))\n",
    "    if error < min_error:\n",
    "        min_error = error\n",
    "        best_rank = rank\n",
    "\n",
    "print ('The best model was trained with rank %s' % best_rank)"
   ]
  },
  {
   "cell_type": "code",
   "execution_count": 9,
   "metadata": {
    "id": "3ImuSE-oMnWt"
   },
   "outputs": [
    {
     "name": "stdout",
     "output_type": "stream",
     "text": [
      "For testing data the RMSE is 0.9160081630195371\n"
     ]
    }
   ],
   "source": [
    "model = ALS.train(training_RDD, best_rank, seed=seed, iterations=iterations,\n",
    "                      lambda_=regularization_parameter)\n",
    "predictions = model.predictAll(test_for_predict_RDD).map(lambda r: ((r[0], r[1]), r[2]))\n",
    "rates_and_preds = test_RDD.map(lambda r: ((int(r[0]), int(r[1])), float(r[2]))).join(predictions)\n",
    "error = math.sqrt(rates_and_preds.map(lambda r: (r[1][0] - r[1][1])**2).mean())\n",
    "    \n",
    "print ('For testing data the RMSE is %s' % (error))"
   ]
  },
  {
   "cell_type": "code",
   "execution_count": 10,
   "metadata": {},
   "outputs": [
    {
     "name": "stdout",
     "output_type": "stream",
     "text": [
      "There are 100836 recommendations in the complete dataset\n"
     ]
    }
   ],
   "source": [
    "complete_ratings_raw_data= sc.textFile(r\"C:\\Users\\ASUS\\Desktop\\Movie recommender pyspark\\dataset\\ml-latest-complete\\ratings.csv\")\n",
    "complete_ratings_raw_data_header = complete_ratings_raw_data.take(1)[0]\n",
    "\n",
    "# Parse\n",
    "complete_ratings_data = complete_ratings_raw_data.filter(lambda line: line!=complete_ratings_raw_data_header)\\\n",
    "    .map(lambda line: line.split(\",\")).map(lambda tokens: (int(tokens[0]),int(tokens[1]),float(tokens[2]))).cache()\n",
    "    \n",
    "print (\"There are %s recommendations in the complete dataset\" % (complete_ratings_data.count()))"
   ]
  },
  {
   "cell_type": "code",
   "execution_count": 11,
   "metadata": {},
   "outputs": [
    {
     "name": "stdout",
     "output_type": "stream",
     "text": [
      "There are 9742 movies in the complete dataset\n"
     ]
    }
   ],
   "source": [
    "complete_movies_raw_data = sc.textFile(r\"C:\\Users\\ASUS\\Desktop\\Movie recommender pyspark\\dataset\\ml-latest-complete\\movies.csv\")\n",
    "complete_movies_raw_data_header = complete_movies_raw_data.take(1)[0]\n",
    "\n",
    "\n",
    "complete_movies_data = complete_movies_raw_data.filter(lambda line: line!=complete_movies_raw_data_header)\\\n",
    "    .map(lambda line: line.split(\",\")).map(lambda tokens: (int(tokens[0]),tokens[1],tokens[2])).cache()\n",
    "\n",
    "complete_movies_titles = complete_movies_data.map(lambda x: (int(x[0]),x[1]))\n",
    "    \n",
    "print (\"There are %s movies in the complete dataset\" % (complete_movies_titles.count()))"
   ]
  },
  {
   "cell_type": "code",
   "execution_count": 12,
   "metadata": {
    "id": "p_p_N9N6Nf73"
   },
   "outputs": [],
   "source": [
    "training_RDD, test_RDD = complete_ratings_data.randomSplit([7, 3], seed=0)\n",
    "\n",
    "complete_model = ALS.train(training_RDD, best_rank, seed=seed, \n",
    "                           iterations=iterations, lambda_=regularization_parameter)"
   ]
  },
  {
   "cell_type": "code",
   "execution_count": 13,
   "metadata": {
    "id": "Cuc2RCyBNwQE"
   },
   "outputs": [
    {
     "name": "stdout",
     "output_type": "stream",
     "text": [
      "For testing data the RMSE is 0.8970677901803009\n"
     ]
    }
   ],
   "source": [
    "test_for_predict_RDD = test_RDD.map(lambda x: (x[0], x[1]))\n",
    "\n",
    "predictions = complete_model.predictAll(test_for_predict_RDD).map(lambda r: ((r[0], r[1]), r[2]))\n",
    "rates_and_preds = test_RDD.map(lambda r: ((int(r[0]), int(r[1])), float(r[2]))).join(predictions)\n",
    "error = math.sqrt(rates_and_preds.map(lambda r: (r[1][0] - r[1][1])**2).mean())\n",
    "    \n",
    "print ( 'For testing data the RMSE is %s' % (error))"
   ]
  },
  {
   "cell_type": "code",
   "execution_count": 14,
   "metadata": {},
   "outputs": [],
   "source": [
    "training_RDD, test_RDD = complete_ratings_data.randomSplit([7, 3], seed=0)\n"
   ]
  },
  {
   "cell_type": "code",
   "execution_count": 15,
   "metadata": {
    "id": "HPaLexvZOCGG"
   },
   "outputs": [],
   "source": [
    "def get_counts_and_averages(ID_and_ratings_tuple):\n",
    "    nratings = len(ID_and_ratings_tuple[1])\n",
    "    return ID_and_ratings_tuple[0], (nratings, float(sum(x for x in ID_and_ratings_tuple[1]))/nratings)\n",
    "\n",
    "movie_ID_with_ratings_RDD = (complete_ratings_data.map(lambda x: (x[1], x[2])).groupByKey())\n",
    "movie_ID_with_avg_ratings_RDD = movie_ID_with_ratings_RDD.map(get_counts_and_averages)\n",
    "movie_rating_counts_RDD = movie_ID_with_avg_ratings_RDD.map(lambda x: (x[0], x[1][0]))"
   ]
  },
  {
   "cell_type": "code",
   "execution_count": null,
   "metadata": {
    "id": "qv-vfZHoOCIa"
   },
   "outputs": [
    {
     "name": "stdout",
     "output_type": "stream",
     "text": [
      " * Serving Flask app \"__main__\" (lazy loading)\n",
      " * Environment: production\n",
      "   WARNING: This is a development server. Do not use it in a production deployment.\n",
      "   Use a production WSGI server instead.\n",
      " * Debug mode: off\n"
     ]
    },
    {
     "name": "stderr",
     "output_type": "stream",
     "text": [
      " * Running on http://127.0.0.1:5000/ (Press CTRL+C to quit)\n",
      "127.0.0.1 - - [12/Jan/2021 14:20:35] \"\u001b[37mGET / HTTP/1.1\u001b[0m\" 200 -\n",
      "127.0.0.1 - - [12/Jan/2021 14:20:35] \"\u001b[33mGET /favicon.ico HTTP/1.1\u001b[0m\" 404 -\n",
      "127.0.0.1 - - [12/Jan/2021 14:36:03] \"\u001b[37mGET / HTTP/1.1\u001b[0m\" 200 -\n",
      "127.0.0.1 - - [12/Jan/2021 14:59:10] \"\u001b[37mGET / HTTP/1.1\u001b[0m\" 200 -\n",
      "127.0.0.1 - - [12/Jan/2021 14:59:14] \"\u001b[37mGET /rating HTTP/1.1\u001b[0m\" 200 -\n"
     ]
    },
    {
     "name": "stdout",
     "output_type": "stream",
     "text": [
      "New user ratings: [(0, 1036, '3'), (0, 3623, '6'), (0, 1, '4'), (0, 455, '4'), (0, 6482, '3'), (0, 1213, '8'), (0, 1649, '4'), (0, 858, '5'), (0, 5816, '8'), (0, 1258, '5')]\n",
      "New model trained in 14.35 seconds\n"
     ]
    },
    {
     "name": "stderr",
     "output_type": "stream",
     "text": [
      "127.0.0.1 - - [12/Jan/2021 15:01:23] \"\u001b[37mPOST /recommendation HTTP/1.1\u001b[0m\" 200 -\n"
     ]
    },
    {
     "name": "stdout",
     "output_type": "stream",
     "text": [
      "TOP recommended movies (with more than 25 reviews):\n",
      "('\"Notebook', 7.2317978372479725, 38)\n",
      "('Cinema Paradiso (Nuovo cinema Paradiso) (1989)', 7.173832288252788, 34)\n",
      "('Harry Potter and the Chamber of Secrets (2002)', 7.010405122108389, 102)\n",
      "('Harry Potter and the Order of the Phoenix (2007)', 6.912861004549992, 58)\n",
      "('Serenity (2005)', 6.7432288163831995, 50)\n",
      "('Harry Potter and the Prisoner of Azkaban (2004)', 6.726742570669347, 93)\n",
      "('\"Sound of Music', 6.666307826077401, 64)\n",
      "('Harry Potter and the Deathly Hallows: Part 2 (2011)', 6.501464900530006, 50)\n",
      "('\"King\\'s Speech', 6.501229292772595, 58)\n",
      "('Big Hero 6 (2014)', 6.494582146836021, 41)\n",
      "('Up (2009)', 6.480794522026132, 105)\n",
      "('The Imitation Game (2014)', 6.473775951477158, 50)\n",
      "(\"Harry Potter and the Sorcerer's Stone (a.k.a. Harry Potter and the Philosopher's Stone) (2001)\", 6.4444474459693115, 107)\n",
      "('Harry Potter and the Half-Blood Prince (2009)', 6.4009874863890355, 58)\n",
      "('Casablanca (1942)', 6.352503882656144, 100)\n",
      "('As Good as It Gets (1997)', 6.3351224491351905, 96)\n",
      "('\"Dark Knight', 6.325014566390352, 149)\n",
      "('(500) Days of Summer (2009)', 6.322505997054983, 42)\n",
      "('Dead Poets Society (1989)', 6.320413997251892, 86)\n",
      "('Dances with Wolves (1990)', 6.309332069794977, 164)\n",
      "('Goodfellas (1990)', 6.308335688702538, 126)\n",
      "('Rogue One: A Star Wars Story (2016)', 6.303182158595931, 27)\n",
      "('Star Trek (2009)', 6.261157690825427, 59)\n",
      "('The Hunger Games: Catching Fire (2013)', 6.24487741850732, 26)\n",
      "('Harry Potter and the Deathly Hallows: Part 1 (2010)', 6.219107485932023, 47)\n"
     ]
    }
   ],
   "source": [
    "app = Flask(__name__)\n",
    "\n",
    "\n",
    "@app.route(\"/\")\n",
    "def welcome():\n",
    "    return render_template('welcome_page.html')\n",
    "\n",
    "\n",
    "@app.route(\"/rating\", methods=[\"GET\", \"POST\"])\n",
    "def rating():\n",
    "    if request.method==\"POST\":\n",
    "        return render_template('recommendation_page.html')\n",
    "    return render_template('rating.html')\n",
    "\n",
    "\n",
    "@app.route(\"/recommendation\", methods=[\"GET\", \"POST\"])\n",
    "def recommendation():\n",
    "    if request.method == 'POST':\n",
    "        \n",
    "        Action = request.form.get('Action')\n",
    "        Adventure = request.form.get('Adventure')\n",
    "        Animation = request.form.get('Animation')\n",
    "        Children = request.form.get('Children')\n",
    "        Comedy = request.form.get('Comedy')\n",
    "        Crime = request.form.get('Crime')\n",
    "        Documentary = request.form.get('Documentary')\n",
    "        Drama = request.form.get('Drama')\n",
    "        Fantasy = request.form.get('Fantasy')\n",
    "        Horror = request.form.get('Horror')\n",
    "        Musical = request.form.get('Musical')\n",
    "        Mystery = request.form.get('Mystery')\n",
    "        Romance = request.form.get('Romance')\n",
    "        SciFi = request.form.get('SciFi')\n",
    "        Thriller = request.form.get('Thriller')\n",
    "        \n",
    "        new_user_ID = 0\n",
    "\n",
    "    \n",
    "        new_user_ratings = [       \n",
    "                (0,1036,Action), \n",
    "                (0,3623,Adventure),\n",
    "                (0,1,Animation), \n",
    "                (0,455,Children), \n",
    "                (0,6482,Comedy),\n",
    "                (0,1213,Crime), \n",
    "                (0,1649,Documentary), \n",
    "                (0,858,Drama),\n",
    "                (0,5816,Fantasy),\n",
    "                (0,1258,Horror), \n",
    "                (0,2087,Musical),\n",
    "                (0,4226,Mystery),\n",
    "                (0,8533,Romance), \n",
    "                (0,260,SciFi), \n",
    "                (0,142488,Thriller) \n",
    "        ]\n",
    "\n",
    "        new_user_ratings_RDD = sc.parallelize(new_user_ratings)\n",
    "        print ('New user ratings: %s'% new_user_ratings_RDD.take(10))\n",
    "        complete_data_with_new_ratings_RDD = complete_ratings_data.union(new_user_ratings_RDD)\n",
    "\n",
    "        \n",
    "        def recommendations(X, n_recommendations):\n",
    "            movies['score'] = get_score(categories, preferences)\n",
    "            return movies.sort_values(by=['score'], ascending=False)['title'][:n_recommendations]\n",
    "\n",
    "\n",
    "        t0 = time()\n",
    "        new_ratings_model = ALS.train(complete_data_with_new_ratings_RDD, best_rank, seed=seed, \n",
    "                                      iterations=iterations, lambda_=regularization_parameter)\n",
    "        tt = time() - t0\n",
    "\n",
    "        print (\"New model trained in %s seconds\" % round(tt,3))\n",
    "        new_user_ratings_ids = map(lambda x: x[1], new_user_ratings)\n",
    "        new_user_unrated_movies_RDD = (complete_movies_data.filter(lambda x: x[0] not in new_user_ratings_ids).map(lambda x: (new_user_ID, x[0])))\n",
    "\n",
    "        new_user_recommendations_RDD = new_ratings_model.predictAll(new_user_unrated_movies_RDD)\n",
    "        new_user_recommendations_rating_RDD = new_user_recommendations_RDD.map(lambda x: (x.product, x.rating))\n",
    "        new_user_recommendations_rating_title_and_count_RDD = \\\n",
    "            new_user_recommendations_rating_RDD.join(complete_movies_titles).join(movie_rating_counts_RDD)\n",
    "        new_user_recommendations_rating_title_and_count_RDD.take(3)\n",
    "        new_user_recommendations_rating_title_and_count_RDD = \\\n",
    "        new_user_recommendations_rating_title_and_count_RDD.map(lambda r: (r[1][0][1], r[1][0][0], r[1][1]))\n",
    "        top_movies = new_user_recommendations_rating_title_and_count_RDD.filter(lambda r: r[2]>=25).takeOrdered(25, key=lambda x: -x[1])\n",
    "\n",
    "        print ('TOP recommended movies (with more than 25 reviews):\\n%s' %\n",
    "                '\\n'.join(map(str, top_movies)))\n",
    "        \n",
    "\n",
    "        return render_template('recommendation_page.html',answers=top_movies[0:20])\n",
    "\n",
    "if __name__ == '__main__':\n",
    "   app.run(debug=False)"
   ]
  },
  {
   "cell_type": "code",
   "execution_count": null,
   "metadata": {
    "id": "0_tbGq0fOCKP"
   },
   "outputs": [],
   "source": []
  },
  {
   "cell_type": "code",
   "execution_count": null,
   "metadata": {
    "id": "Kao2WrU-OCMi"
   },
   "outputs": [],
   "source": []
  },
  {
   "cell_type": "code",
   "execution_count": null,
   "metadata": {
    "id": "ODT5w0BXOCOg"
   },
   "outputs": [],
   "source": []
  },
  {
   "cell_type": "code",
   "execution_count": null,
   "metadata": {},
   "outputs": [],
   "source": []
  },
  {
   "cell_type": "code",
   "execution_count": null,
   "metadata": {},
   "outputs": [],
   "source": []
  },
  {
   "cell_type": "code",
   "execution_count": null,
   "metadata": {},
   "outputs": [],
   "source": []
  }
 ],
 "metadata": {
  "colab": {
   "collapsed_sections": [],
   "name": "New On-line movie recommending service using Spark.ipynb",
   "provenance": []
  },
  "kernelspec": {
   "display_name": "Python 3",
   "language": "python",
   "name": "python3"
  },
  "language_info": {
   "codemirror_mode": {
    "name": "ipython",
    "version": 3
   },
   "file_extension": ".py",
   "mimetype": "text/x-python",
   "name": "python",
   "nbconvert_exporter": "python",
   "pygments_lexer": "ipython3",
   "version": "3.7.6"
  }
 },
 "nbformat": 4,
 "nbformat_minor": 1
}
