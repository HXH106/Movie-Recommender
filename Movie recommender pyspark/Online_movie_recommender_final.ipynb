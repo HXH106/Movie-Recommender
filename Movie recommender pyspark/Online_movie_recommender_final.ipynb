{
 "cells": [
  {
   "cell_type": "code",
   "execution_count": 1,
   "metadata": {},
   "outputs": [],
   "source": [
    "import pyspark\n",
    "from pyspark import SparkContext\n",
    "from pyspark.mllib.recommendation import ALS\n",
    "import math\n",
    "from flask import Flask, render_template, request\n",
    "import pandas as pd\n",
    "import numpy as np\n",
    "from time import time\n",
    "from pyspark.sql.types import StructType, StructField, IntegerType, FloatType, StringType\n",
    "from pyspark.sql.functions import rank, col, avg, min\n",
    "\n",
    "from pyspark.sql import SQLContext,SparkSession\n",
    "sc = pyspark.SparkContext(appName=\"Online movie recommender\")"
   ]
  },
  {
   "cell_type": "code",
   "execution_count": 2,
   "metadata": {},
   "outputs": [
    {
     "name": "stdout",
     "output_type": "stream",
     "text": [
      "There are 100836 recommendations in this dataset\n"
     ]
    }
   ],
   "source": [
    "ratings_df= sc.textFile(r\"dataset\\ml-latest-small\\ratings.csv\")\n",
    "ratings_header = ratings_df.take(1)[0]\n",
    "\n",
    "ratings = ratings_df.filter(lambda line: line!=ratings_header)\\\n",
    "    .map(lambda line: line.split(\",\")).map(lambda tokens: (int(tokens[0]),int(tokens[1]),float(tokens[2]))).cache()\n",
    "    \n",
    "print (\"There are %s recommendations in this dataset\" % (ratings.count()))"
   ]
  },
  {
   "cell_type": "code",
   "execution_count": 3,
   "metadata": {},
   "outputs": [
    {
     "name": "stdout",
     "output_type": "stream",
     "text": [
      "There are 9742 movies in this dataset\n"
     ]
    }
   ],
   "source": [
    "movies_df = sc.textFile(r\"dataset\\ml-latest-small\\movies.csv\")\n",
    "movies_header = movies_df.take(1)[0]\n",
    "\n",
    "movies= movies_df.filter(lambda line: line!=movies_header)\\\n",
    "    .map(lambda line: line.split(\",\")).map(lambda tokens: (int(tokens[0]),tokens[1],tokens[2])).cache()\n",
    "\n",
    "movies_titles = movies.map(lambda x: (int(x[0]),x[1]))\n",
    "    \n",
    "print (\"There are %s movies in this dataset\" % (movies_titles.count()))"
   ]
  },
  {
   "cell_type": "code",
   "execution_count": 4,
   "metadata": {},
   "outputs": [
    {
     "name": "stdout",
     "output_type": "stream",
     "text": [
      "+------+-------+------+\n",
      "|userId|movieId|rating|\n",
      "+------+-------+------+\n",
      "|     1|      1|   4.0|\n",
      "|     1|      3|   4.0|\n",
      "|     1|      6|   4.0|\n",
      "|     1|     47|   5.0|\n",
      "|     1|     50|   5.0|\n",
      "|     1|     70|   3.0|\n",
      "|     1|    101|   5.0|\n",
      "|     1|    110|   4.0|\n",
      "|     1|    151|   5.0|\n",
      "|     1|    157|   5.0|\n",
      "+------+-------+------+\n",
      "only showing top 10 rows\n",
      "\n"
     ]
    }
   ],
   "source": [
    "#datavisusalisation\n",
    "schema = StructType([StructField(\"userId\", IntegerType()),\n",
    "                     StructField(\"movieId\", IntegerType()),\n",
    "                     StructField(\"rating\", FloatType())])\n",
    "rating = SQLContext(sc).read.csv(ratings_df, header=True, schema=schema)\n",
    "rating.show(10)"
   ]
  },
  {
   "cell_type": "code",
   "execution_count": 5,
   "metadata": {},
   "outputs": [
    {
     "name": "stdout",
     "output_type": "stream",
     "text": [
      "+-------+--------------------+--------------------+\n",
      "|movieId|               title|              genres|\n",
      "+-------+--------------------+--------------------+\n",
      "|      1|    Toy Story (1995)|Adventure|Animati...|\n",
      "|      2|      Jumanji (1995)|Adventure|Childre...|\n",
      "|      3|Grumpier Old Men ...|     Comedy|Romance;|\n",
      "|      4|Waiting to Exhale...|Comedy|Drama|Roma...|\n",
      "|      5|Father of the Bri...|             Comedy;|\n",
      "+-------+--------------------+--------------------+\n",
      "only showing top 5 rows\n",
      "\n"
     ]
    }
   ],
   "source": [
    "schema_movies = StructType([\n",
    "    StructField(\"movieId\", IntegerType()),\n",
    "    StructField(\"title\", StringType()),\n",
    "    StructField(\"genres\", StringType())\n",
    "])\n",
    "\n",
    "movie = SQLContext(sc).read.csv(movies_df, header=True, schema=schema_movies)\n",
    "movie.show(5)"
   ]
  },
  {
   "cell_type": "code",
   "execution_count": 6,
   "metadata": {},
   "outputs": [
    {
     "name": "stdout",
     "output_type": "stream",
     "text": [
      "+-----------+-------+------------------+\n",
      "|  youtubeId|movieId|             title|\n",
      "+-----------+-------+------------------+\n",
      "|K26_sDKnvMU|      1|Toy Story (1995);;|\n",
      "+-----------+-------+------------------+\n",
      "only showing top 1 row\n",
      "\n"
     ]
    }
   ],
   "source": [
    "schema_youtube = StructType([\n",
    "    StructField(\"youtubeId\", StringType()),\n",
    "    StructField(\"movieId\", IntegerType()),\n",
    "    StructField(\"title\", StringType())\n",
    "])\n",
    "youtubes = SQLContext(sc).read.csv(\"dataset/ml-latest-small/ml-youtube.csv\", header=True, schema=schema_youtube)\n",
    "youtubes.show(1)"
   ]
  },
  {
   "cell_type": "code",
   "execution_count": 7,
   "metadata": {},
   "outputs": [
    {
     "name": "stdout",
     "output_type": "stream",
     "text": [
      "+-------+-------+------+\n",
      "|movieId| imdbId|tmdbId|\n",
      "+-------+-------+------+\n",
      "|      1|0114709|   862|\n",
      "|      2|0113497|  8844|\n",
      "|      3|0113228| 15602|\n",
      "|      4|0114885| 31357|\n",
      "|      5|0113041| 11862|\n",
      "+-------+-------+------+\n",
      "only showing top 5 rows\n",
      "\n"
     ]
    }
   ],
   "source": [
    "schema_links = StructType([\n",
    "    StructField(\"movieId\", IntegerType()),\n",
    "    StructField(\"imdbId\", StringType()),\n",
    "    StructField(\"tmdbId\", IntegerType())\n",
    "])\n",
    "links = SQLContext(sc).read.csv(\"dataset/ml-latest-small/links.csv\", header=True, schema=schema_links)\n",
    "links.show(5)"
   ]
  },
  {
   "cell_type": "code",
   "execution_count": 8,
   "metadata": {},
   "outputs": [
    {
     "name": "stdout",
     "output_type": "stream",
     "text": [
      "+-------+------+------+--------------------+------------+\n",
      "|movieId|userId|rating|               title|      genres|\n",
      "+-------+------+------+--------------------+------------+\n",
      "|    148|   191|   5.0| Awfully Big Adve...|  An (1995) |\n",
      "|    471|    32|   3.0|     Hudsucker Proxy| The (1994) |\n",
      "|    471|    57|   3.0|     Hudsucker Proxy| The (1994) |\n",
      "+-------+------+------+--------------------+------------+\n",
      "only showing top 3 rows\n",
      "\n"
     ]
    }
   ],
   "source": [
    "rating.join(movie, \"movieId\").show(3)"
   ]
  },
  {
   "cell_type": "code",
   "execution_count": 9,
   "metadata": {},
   "outputs": [
    {
     "name": "stdout",
     "output_type": "stream",
     "text": [
      "+------+-----+\n",
      "|userId|count|\n",
      "+------+-----+\n",
      "|   148|   48|\n",
      "|   463|   33|\n",
      "|   471|   28|\n",
      "|   496|   29|\n",
      "|   243|   36|\n",
      "+------+-----+\n",
      "only showing top 5 rows\n",
      "\n"
     ]
    }
   ],
   "source": [
    "rating.groupBy(\"userId\").count().show(5)"
   ]
  },
  {
   "cell_type": "code",
   "execution_count": 10,
   "metadata": {},
   "outputs": [
    {
     "name": "stdout",
     "output_type": "stream",
     "text": [
      "Movie with the fewest ratings: \n",
      "+----------+\n",
      "|min(count)|\n",
      "+----------+\n",
      "|         1|\n",
      "+----------+\n",
      "\n"
     ]
    }
   ],
   "source": [
    "print(\"Movie with the fewest ratings: \")\n",
    "rating.groupBy(\"movieId\").count().select(min(\"count\")).show()"
   ]
  },
  {
   "cell_type": "code",
   "execution_count": 11,
   "metadata": {},
   "outputs": [
    {
     "name": "stdout",
     "output_type": "stream",
     "text": [
      "Avg num ratings per movie: \n",
      "+------------------+\n",
      "|        avg(count)|\n",
      "+------------------+\n",
      "|10.369806663924312|\n",
      "+------------------+\n",
      "\n"
     ]
    }
   ],
   "source": [
    "print(\"Avg num ratings per movie: \")\n",
    "rating.groupBy(\"movieId\").count().select(avg(\"count\")).show()"
   ]
  },
  {
   "cell_type": "code",
   "execution_count": 12,
   "metadata": {},
   "outputs": [
    {
     "name": "stdout",
     "output_type": "stream",
     "text": [
      "Avg num ratings per user: \n",
      "+------------------+\n",
      "|        avg(count)|\n",
      "+------------------+\n",
      "|165.30491803278687|\n",
      "+------------------+\n",
      "\n"
     ]
    }
   ],
   "source": [
    "print(\"Avg num ratings per user: \")\n",
    "rating.groupBy(\"userId\").count().select(avg(\"count\")).show()"
   ]
  },
  {
   "cell_type": "code",
   "execution_count": 13,
   "metadata": {},
   "outputs": [
    {
     "name": "stdout",
     "output_type": "stream",
     "text": [
      "User with the fewest ratings: \n",
      "+----------+\n",
      "|min(count)|\n",
      "+----------+\n",
      "|        20|\n",
      "+----------+\n",
      "\n"
     ]
    }
   ],
   "source": [
    "print(\"User with the fewest ratings: \")\n",
    "rating.groupBy(\"userId\").count().select(min(\"count\")).show()"
   ]
  },
  {
   "cell_type": "code",
   "execution_count": 14,
   "metadata": {},
   "outputs": [
    {
     "name": "stdout",
     "output_type": "stream",
     "text": [
      "number of training data rows: 70780 , number of testing data rows: 30056\n"
     ]
    }
   ],
   "source": [
    "data = rating.select(\"userId\", \"movieId\", \"rating\")\n",
    "splits = data.randomSplit([0.7, 0.3])\n",
    "train =splits[0].withColumnRenamed(\"rating\", \"label\")\n",
    "test =splits[1].withColumnRenamed(\"rating\", \"trueLabel\")\n",
    "train_rows = train.count()\n",
    "test_rows = test.count()\n",
    "print (\"number of training data rows:\", train_rows, \n",
    "       \", number of testing data rows:\", test_rows)\n",
    "\n"
   ]
  },
  {
   "cell_type": "code",
   "execution_count": 15,
   "metadata": {},
   "outputs": [],
   "source": [
    "iterations = 10\n",
    "regularization_parameter = 0.1\n",
    "rank = 12\n",
    "errors = 0\n",
    "err = 0\n",
    "tolerance = 0.02"
   ]
  },
  {
   "cell_type": "code",
   "execution_count": 16,
   "metadata": {},
   "outputs": [
    {
     "name": "stdout",
     "output_type": "stream",
     "text": [
      "Training is done!\n"
     ]
    }
   ],
   "source": [
    "training_RDD, test_RDD = ratings.randomSplit([7, 3], seed=0)\n",
    "model=ALS.train(training_RDD, rank,iterations=iterations, lambda_=regularization_parameter)\n",
    "print(\"Training is done!\")"
   ]
  },
  {
   "cell_type": "code",
   "execution_count": 17,
   "metadata": {},
   "outputs": [
    {
     "name": "stdout",
     "output_type": "stream",
     "text": [
      "For testing data the RMSE is 0.8984778791578988\n"
     ]
    }
   ],
   "source": [
    "test_for_predict_RDD = test_RDD.map(lambda x: (x[0], x[1]))\n",
    "\n",
    "predictions = model.predictAll(test_for_predict_RDD).map(lambda r: ((r[0], r[1]), r[2]))\n",
    "rates_and_preds = test_RDD.map(lambda r: ((int(r[0]), int(r[1])), float(r[2]))).join(predictions)\n",
    "error = math.sqrt(rates_and_preds.map(lambda r: (r[1][0] - r[1][1])**2).mean())\n",
    "    \n",
    "print ( 'For testing data the RMSE is %s' % (error))"
   ]
  },
  {
   "cell_type": "code",
   "execution_count": 18,
   "metadata": {},
   "outputs": [
    {
     "data": {
      "text/plain": [
       "[((260, 1084), 4.411638778598869),\n",
       " ((265, 1084), 3.4291521558719653),\n",
       " ((125, 1084), 3.96742234203478),\n",
       " ((177, 1084), 4.000893976341258),\n",
       " ((357, 1084), 4.162084104427085)]"
      ]
     },
     "execution_count": 18,
     "metadata": {},
     "output_type": "execute_result"
    }
   ],
   "source": [
    "predictions.take(5)"
   ]
  },
  {
   "cell_type": "code",
   "execution_count": 19,
   "metadata": {},
   "outputs": [],
   "source": [
    "def get_counts_and_averages(ID_and_ratings_tuple):\n",
    "    nratings = len(ID_and_ratings_tuple[1])\n",
    "    return ID_and_ratings_tuple[0], (nratings, float(sum(x for x in ID_and_ratings_tuple[1]))/nratings)\n",
    "\n"
   ]
  },
  {
   "cell_type": "code",
   "execution_count": 20,
   "metadata": {},
   "outputs": [],
   "source": [
    "movie_ID_with_ratings_RDD = (ratings.map(lambda x: (x[1], x[2])).groupByKey())\n",
    "movie_ID_with_avg_ratings_RDD = movie_ID_with_ratings_RDD.map(get_counts_and_averages)\n",
    "movie_rating_counts_RDD = movie_ID_with_avg_ratings_RDD.map(lambda x: (x[0], x[1][0]))"
   ]
  },
  {
   "cell_type": "code",
   "execution_count": 21,
   "metadata": {},
   "outputs": [],
   "source": [
    "data=rating.join(movie,\"movieId\").join(links, \"movieId\").join(youtubes, \"movieId\").drop(youtubes.title).select(\"movieId\", \"title\", \"imdbId\", \"youtubeId\")\n",
    "\n",
    "def liens(aa):\n",
    "\n",
    "    k=data.where(data.title == aa)\n",
    "    k.select('imdbId','youtubeId','title').dropDuplicates()\n",
    "    imdbId= list(\n",
    "       k.select('imdbId').toPandas()['imdbId'])\n",
    "    youtubeId= list(\n",
    "       k.select('youtubeId').toPandas()['youtubeId'])\n",
    "    title= list(\n",
    "       k.select('title').toPandas()['title'])\n",
    "    l=(imdbId[0],title[0],youtubeId[0])\n",
    "    \n",
    "    return (l)\n"
   ]
  },
  {
   "cell_type": "code",
   "execution_count": null,
   "metadata": {},
   "outputs": [
    {
     "name": "stdout",
     "output_type": "stream",
     "text": [
      " * Serving Flask app \"__main__\" (lazy loading)\n",
      " * Environment: production\n",
      "   WARNING: This is a development server. Do not use it in a production deployment.\n",
      "   Use a production WSGI server instead.\n",
      " * Debug mode: off\n"
     ]
    },
    {
     "name": "stderr",
     "output_type": "stream",
     "text": [
      " * Running on http://127.0.0.1:5000/ (Press CTRL+C to quit)\n",
      "127.0.0.1 - - [25/Jan/2021 16:47:47] \"\u001b[37mGET / HTTP/1.1\u001b[0m\" 200 -\n",
      "127.0.0.1 - - [25/Jan/2021 16:47:49] \"\u001b[37mGET /rating HTTP/1.1\u001b[0m\" 200 -\n"
     ]
    },
    {
     "name": "stdout",
     "output_type": "stream",
     "text": [
      "New user ratings: [(0, 1036, '0'), (0, 3623, '0'), (0, 1, '0'), (0, 455, '0'), (0, 6482, '0'), (0, 1213, '0'), (0, 1649, '0'), (0, 858, '0'), (0, 5816, '0'), (0, 1258, '0')]\n"
     ]
    }
   ],
   "source": [
    "app = Flask(__name__)\n",
    "from IPython.core.display import display, HTML\n",
    "\n",
    "\n",
    "@app.route(\"/\")\n",
    "def welcome():\n",
    "    return render_template('welcome_page.html')\n",
    "\n",
    "\n",
    "@app.route(\"/rating\", methods=[\"GET\", \"POST\"])\n",
    "def rating():\n",
    "    if request.method==\"POST\":\n",
    "        return render_template('recommendation_page.html')\n",
    "    return render_template('rating.html')\n",
    "\n",
    "\n",
    "@app.route(\"/recommendation\", methods=[\"GET\", \"POST\"])\n",
    "def recommendation():\n",
    "    if request.method == 'POST':\n",
    "        \n",
    "        Action = request.form.get('Action')\n",
    "        Adventure = request.form.get('Adventure')\n",
    "        Animation = request.form.get('Animation')\n",
    "        Children = request.form.get('Children')\n",
    "        Comedy = request.form.get('Comedy')\n",
    "        Crime = request.form.get('Crime')\n",
    "        Documentary = request.form.get('Documentary')\n",
    "        Drama = request.form.get('Drama')\n",
    "        Fantasy = request.form.get('Fantasy')\n",
    "        Horror = request.form.get('Horror')\n",
    "        Musical = request.form.get('Musical')\n",
    "        Mystery = request.form.get('Mystery')\n",
    "        Romance = request.form.get('Romance')\n",
    "        SciFi = request.form.get('SciFi')\n",
    "        Thriller = request.form.get('Thriller')\n",
    "        \n",
    "        new_user_ID = 0\n",
    "        l=[]\n",
    "        h=[]\n",
    "\n",
    "    \n",
    "        new_user_ratings = [       \n",
    "                (0,1036,Action), \n",
    "                (0,3623,Adventure),\n",
    "                (0,1,Animation), \n",
    "                (0,455,Children), \n",
    "                (0,6482,Comedy),\n",
    "                (0,1213,Crime), \n",
    "                (0,1649,Documentary), \n",
    "                (0,858,Drama),\n",
    "                (0,5816,Fantasy),\n",
    "                (0,1258,Horror), \n",
    "                (0,2087,Musical),\n",
    "                (0,4226,Mystery),\n",
    "                (0,8533,Romance), \n",
    "                (0,260,SciFi), \n",
    "                (0,142488,Thriller) \n",
    "        ]\n",
    "\n",
    "        new_user_ratings_RDD = sc.parallelize(new_user_ratings)\n",
    "        print ('New user ratings: %s'% new_user_ratings_RDD.take(10))\n",
    "        data_with_new_ratings_RDD = ratings.union(new_user_ratings_RDD)\n",
    "                \n",
    "        def recommendations(X, n_recommendations):\n",
    "            movies['score'] = get_score(categories, preferences)\n",
    "            return movies.sort_values(by=['score'], ascending=False)['title'][:n_recommendations]\n",
    "\n",
    "\n",
    "        t0 = time()\n",
    "        new_ratings_model = ALS.train(data_with_new_ratings_RDD,rank,iterations=iterations, lambda_=regularization_parameter)\n",
    "        tt = time() - t0\n",
    "\n",
    "        print (\"New model trained in %s seconds\" % round(tt,3))\n",
    "        new_user_ratings_ids = map(lambda x: x[1], new_user_ratings)\n",
    "        new_user_unrated_movies_RDD = (movies.filter(lambda x: x[0] not in new_user_ratings_ids).map(lambda x: (new_user_ID, x[0])))\n",
    "\n",
    "        new_user_recommendations_RDD = new_ratings_model.predictAll(new_user_unrated_movies_RDD)\n",
    "        new_user_recommendations_rating_RDD = new_user_recommendations_RDD.map(lambda x: (x.product, x.rating))\n",
    "        new_user_recommendations_rating_title_and_count_RDD = \\\n",
    "            new_user_recommendations_rating_RDD.join(movies_titles).join(movie_rating_counts_RDD)\n",
    "        new_user_recommendations_rating_title_and_count_RDD = \\\n",
    "        new_user_recommendations_rating_title_and_count_RDD.map(lambda r: (r[1][0][1], r[1][0][0], r[1][1]))\n",
    "        top_movies = new_user_recommendations_rating_title_and_count_RDD.filter(lambda r: r[2]>=25).takeOrdered(20, key=lambda x: -x[1])\n",
    "        print ('TOP 20 recommended movies (with more than 25 reviews):\\n%s' %\n",
    "                '\\n'.join(map(str, top_movies)))\n",
    "        \n",
    "        answers=top_movies[0:20]\n",
    "        for i in answers :\n",
    "            l= liens(i[0])\n",
    "            title=l[1]\n",
    "            imdb=\"https://www.imdb.com/title/tt\"+str(l[0])\n",
    "            y=\"http://youtube.com/watch?v=\"+str(l[2])\n",
    "            t=(title,imdb,y)\n",
    "            h.append(t)\n",
    "            print(t)\n",
    "\n",
    "\n",
    "\n",
    "        return render_template('recommendation_page.html',answers=h)\n",
    "if __name__ == '__main__':\n",
    "   app.run(debug=False)"
   ]
  },
  {
   "cell_type": "code",
   "execution_count": null,
   "metadata": {},
   "outputs": [],
   "source": []
  }
 ],
 "metadata": {
  "kernelspec": {
   "display_name": "movie",
   "language": "python",
   "name": "movie"
  },
  "language_info": {
   "codemirror_mode": {
    "name": "ipython",
    "version": 3
   },
   "file_extension": ".py",
   "mimetype": "text/x-python",
   "name": "python",
   "nbconvert_exporter": "python",
   "pygments_lexer": "ipython3",
   "version": "3.8.3"
  }
 },
 "nbformat": 4,
 "nbformat_minor": 4
}
